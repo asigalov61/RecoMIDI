{
  "cells": [
    {
      "cell_type": "markdown",
      "metadata": {
        "gradient": {
          "editing": false,
          "id": "ac5a4cf0-d9d2-47b5-9633-b53f8d99a4d2",
          "kernelId": ""
        },
        "id": "SiTIpPjArIyr"
      },
      "source": [
        "# RecoMIDI AI (ver. 1.0)\n",
        "\n",
        "## Dead simple and super-efficient MIDI recommendation implementation\n",
        "\n",
        "***\n",
        "\n",
        "Powered by tegridy-tools: https://github.com/asigalov61/tegridy-tools\n",
        "\n",
        "***\n",
        "\n",
        "#### Project Los Angeles\n",
        "\n",
        "#### Tegridy Code 2022\n",
        "\n",
        "***"
      ]
    },
    {
      "cell_type": "markdown",
      "metadata": {
        "gradient": {
          "editing": false,
          "id": "fa0a611c-1803-42ae-bdf6-a49b5a4e781b",
          "kernelId": ""
        },
        "id": "gOd93yV0sGd2"
      },
      "source": [
        "# (Setup Environment)"
      ]
    },
    {
      "cell_type": "code",
      "execution_count": null,
      "metadata": {
        "cellView": "form",
        "gradient": {
          "editing": false,
          "id": "a1a45a91-d909-4fd4-b67a-5e16b971d179",
          "kernelId": ""
        },
        "id": "fX12Yquyuihc"
      },
      "outputs": [],
      "source": [
        "#@title Install all dependencies (run only once per session)\n",
        "\n",
        "!git clone https://github.com/asigalov61/RecoMIDI\n",
        "!pip install tqdm"
      ]
    },
    {
      "cell_type": "code",
      "execution_count": null,
      "metadata": {
        "gradient": {
          "editing": false,
          "id": "b8207b76-9514-4c07-95db-95a4742e52c5",
          "kernelId": ""
        },
        "id": "z7n9vnKmug1J",
        "cellView": "form"
      },
      "outputs": [],
      "source": [
        "#@title Import all needed modules\n",
        "\n",
        "print('Loading needed modules. Please wait...')\n",
        "import os\n",
        "import tqdm as tqdm\n",
        "\n",
        "print('Loading TMIDIX module...')\n",
        "os.chdir('/content/RecoMIDI')\n",
        "\n",
        "import TMIDIX\n",
        "\n",
        "from GPT2RGAX import *"
      ]
    },
    {
      "cell_type": "markdown",
      "metadata": {
        "id": "ObPxlEutsQBj"
      },
      "source": [
        "# (Unzip and prep the model)"
      ]
    },
    {
      "cell_type": "code",
      "source": [
        "#@title Unzip pre-trained model\n",
        "\n",
        "\n",
        "%cd /content/RecoMIDI/Model/\n",
        "\n",
        "print('=' * 70)\n",
        "print('Unzipping the model...Please wait...')\n",
        "print('=' * 70)\n",
        "\n",
        "!cat RecoMIDI-Trained-Model.zip* > RecoMIDI-Trained-Model.zip\n",
        "print('=' * 70)\n",
        "\n",
        "!unzip -j RecoMIDI-Trained-Model.zip\n",
        "print('=' * 70)\n",
        "\n",
        "print('Done! Enjoy! :)')\n",
        "print('=' * 70)\n",
        "%cd /content/RecoMIDI/"
      ],
      "metadata": {
        "id": "hYz2P5Zmoobl",
        "cellView": "form"
      },
      "execution_count": null,
      "outputs": []
    },
    {
      "cell_type": "code",
      "source": [
        "#@title Load/Reload the model\n",
        "\n",
        "DIC_SIZE=9300\n",
        "\n",
        "from collections import OrderedDict\n",
        "\n",
        "full_path_to_model_checkpoint = \"/content/RecoMIDI/Model/RecoMIDI-Trained-Model.pth\" #@param {type:\"string\"}\n",
        "\n",
        "print('Loading the model...')\n",
        "config = GPTConfig(DIC_SIZE, \n",
        "                   1024,\n",
        "                   dim_feedforward=512,\n",
        "                   n_layer=6, \n",
        "                   n_head=8, \n",
        "                   n_embd=512,\n",
        "                   enable_rpr=True,\n",
        "                   er_len=1024)\n",
        "\n",
        "device = torch.device(\"cuda\" if torch.cuda.is_available() else \"cpu\")\n",
        "\n",
        "model = GPT(config)\n",
        "\n",
        "state_dict = torch.load(full_path_to_model_checkpoint, map_location=device)\n",
        "\n",
        "new_state_dict = OrderedDict()\n",
        "for k, v in state_dict.items():\n",
        "    name = k[7:] #remove 'module'\n",
        "    new_state_dict[name] = v\n",
        "\n",
        "model.load_state_dict(new_state_dict)\n",
        "\n",
        "model.to(device)\n",
        "\n",
        "model.eval()\n",
        "\n",
        "print('Done!')"
      ],
      "metadata": {
        "cellView": "form",
        "id": "dWUAggBiUrjb"
      },
      "execution_count": null,
      "outputs": []
    },
    {
      "cell_type": "markdown",
      "metadata": {
        "id": "UX1_5y5Fu8AH"
      },
      "source": [
        "# (LAKH/clean_midi Signatures Pack)"
      ]
    },
    {
      "cell_type": "code",
      "source": [
        "#@title Load LAKH/clean_midi Signatures Pack\n",
        "artists, songs, artists_dic, songs_dic, sigs, INTS = pickle.load(open('/content/RecoMIDI/RecoMIDIAI.pickle', 'rb'))"
      ],
      "metadata": {
        "id": "TjSMb9mWdqnS",
        "cellView": "form"
      },
      "execution_count": null,
      "outputs": []
    },
    {
      "cell_type": "markdown",
      "source": [
        "# (GENERATE MATCHES)"
      ],
      "metadata": {
        "id": "59gXalBfhnWK"
      }
    },
    {
      "cell_type": "code",
      "source": [
        "#@title Generate\n",
        "full_path_to_source_MIDI = \"/content/RecoMIDI/Come To My Window.mid\" #@param {type:\"string\"}\n",
        "f = full_path_to_source_MIDI\n",
        "\n",
        "#print('Loading MIDI file...')\n",
        "score = TMIDIX.midi2score(open(f, 'rb').read())\n",
        "inputs = []\n",
        "events_matrix = []\n",
        "inputs_sigs = []\n",
        "itrack = 1\n",
        "\n",
        "while itrack < len(score):\n",
        "    for event in score[itrack]:         \n",
        "        if event[0] == 'note':\n",
        "            events_matrix.append(event)\n",
        "    itrack += 1\n",
        "events_matrix.sort()\n",
        "if len(events_matrix) > 0:\n",
        "    instruments_pitches = [y[4] for y in events_matrix if y[3] != 9]\n",
        "    instruments_pitches_count = len(instruments_pitches)\n",
        "    instruments_pitches_sum = sum(instruments_pitches)\n",
        "\n",
        "    drums_pitches = [y[4] for y in events_matrix if y[3] == 9]\n",
        "    drums_pitches_count = len(drums_pitches)\n",
        "    drums_pitches_sum = sum(drums_pitches)\n",
        "\n",
        "    inputs.append([f, '', \n",
        "                            instruments_pitches_count, instruments_pitches_sum,\n",
        "                           drums_pitches_count, drums_pitches_sum, events_matrix[-1][1]])\n",
        "\n",
        "    \n",
        "inputs_sigs.extend([inputs[0][2] % 512, inputs[0][2] // 512,\n",
        "                inputs[0][3] % 512, inputs[0][3] // 512,\n",
        "                inputs[0][4] % 512, inputs[0][4] // 512,\n",
        "                inputs[0][5] % 512, inputs[0][5] // 512,\n",
        "                inputs[0][6] % 512])\n",
        "\n",
        "\n",
        "temperature = 1\n",
        "\n",
        "rand_seq = model.generate(torch.Tensor(inputs_sigs), \n",
        "                                            target_seq_length=len(inputs_sigs)+2,\n",
        "                                            temperature=temperature,\n",
        "                                            stop_token=DIC_SIZE,\n",
        "                                            verbose=True)\n",
        "    \n",
        "out = rand_seq[0].cpu().numpy().tolist()\n",
        "\n",
        "print(out)\n",
        "\n",
        "print(artists_dic[out[-2]])\n",
        "\n",
        "print(songs_dic[out[-1]])"
      ],
      "metadata": {
        "id": "CyBhKKX5dPiH",
        "cellView": "form"
      },
      "execution_count": null,
      "outputs": []
    },
    {
      "cell_type": "markdown",
      "metadata": {
        "id": "YzCMd94Tu_gz"
      },
      "source": [
        "# Congrats! You did it! :)"
      ]
    }
  ],
  "metadata": {
    "colab": {
      "collapsed_sections": [],
      "machine_shape": "hm",
      "name": "RecoMIDIAI.ipynb",
      "private_outputs": true,
      "provenance": []
    },
    "kernelspec": {
      "display_name": "Python 3 (ipykernel)",
      "language": "python",
      "name": "python3"
    },
    "language_info": {
      "codemirror_mode": {
        "name": "ipython",
        "version": 3
      },
      "file_extension": ".py",
      "mimetype": "text/x-python",
      "name": "python",
      "nbconvert_exporter": "python",
      "pygments_lexer": "ipython3",
      "version": "3.8.12"
    },
    "accelerator": "GPU"
  },
  "nbformat": 4,
  "nbformat_minor": 0
}