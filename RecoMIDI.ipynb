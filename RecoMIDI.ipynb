{
  "cells": [
    {
      "cell_type": "markdown",
      "metadata": {
        "gradient": {
          "editing": false,
          "id": "ac5a4cf0-d9d2-47b5-9633-b53f8d99a4d2",
          "kernelId": ""
        },
        "id": "SiTIpPjArIyr"
      },
      "source": [
        "# RecoMIDI (ver. 1.0)\n",
        "\n",
        "## Dead simple and super-efficient MIDI recommendation implementation\n",
        "\n",
        "***\n",
        "\n",
        "Powered by tegridy-tools: https://github.com/asigalov61/tegridy-tools\n",
        "\n",
        "***\n",
        "\n",
        "#### Project Los Angeles\n",
        "\n",
        "#### Tegridy Code 2022\n",
        "\n",
        "***"
      ]
    },
    {
      "cell_type": "markdown",
      "metadata": {
        "gradient": {
          "editing": false,
          "id": "fa0a611c-1803-42ae-bdf6-a49b5a4e781b",
          "kernelId": ""
        },
        "id": "gOd93yV0sGd2"
      },
      "source": [
        "# (Setup Environment)"
      ]
    },
    {
      "cell_type": "code",
      "execution_count": null,
      "metadata": {
        "cellView": "form",
        "gradient": {
          "editing": false,
          "id": "a1a45a91-d909-4fd4-b67a-5e16b971d179",
          "kernelId": ""
        },
        "id": "fX12Yquyuihc"
      },
      "outputs": [],
      "source": [
        "#@title Install all dependencies (run only once per session)\n",
        "\n",
        "!git clone https://github.com/asigalov61/RecoMIDI\n",
        "!pip install tqdm\n",
        "!pip install pickle5\n",
        "!pip install matplotlib\n",
        "!apt install fluidsynth #Pip does not work for some reason. Only apt works\n",
        "!pip install midi2audio\n",
        "!pip install pretty_midi"
      ]
    },
    {
      "cell_type": "code",
      "execution_count": null,
      "metadata": {
        "gradient": {
          "editing": false,
          "id": "b8207b76-9514-4c07-95db-95a4742e52c5",
          "kernelId": ""
        },
        "id": "z7n9vnKmug1J",
        "cellView": "form"
      },
      "outputs": [],
      "source": [
        "#@title Import all needed modules\n",
        "\n",
        "print('Loading needed modules. Please wait...')\n",
        "import os\n",
        "import tqdm as tqdm\n",
        "import pickle5 as pickle\n",
        "\n",
        "print('Loading TMIDIX module...')\n",
        "os.chdir('/content/RecoMIDI')\n",
        "\n",
        "import TMIDIX\n",
        "\n",
        "import matplotlib.pyplot as plt\n",
        "from midi2audio import FluidSynth\n",
        "import pretty_midi\n",
        "import librosa.display\n",
        "import matplotlib.pyplot as plt\n",
        "from mpl_toolkits import mplot3d\n",
        "\n",
        "from IPython.display import display, Javascript, HTML, Audio\n",
        "\n",
        "from google.colab import output, drive"
      ]
    },
    {
      "cell_type": "markdown",
      "metadata": {
        "id": "ObPxlEutsQBj"
      },
      "source": [
        "# (MIDI Dataset)"
      ]
    },
    {
      "cell_type": "code",
      "source": [
        "#@title Download and untar full LAKH MIDI dataset\n",
        "\n",
        "\n",
        "%cd /content/\n",
        "\n",
        "print('=' * 70)\n",
        "print('Downloading pre-trained dataset-model...Please wait...')\n",
        "print('=' * 70)\n",
        "\n",
        "!wget http://hog.ee.columbia.edu/craffel/lmd/lmd_full.tar.gz\n",
        "print('=' * 70)\n",
        "\n",
        "!tar -xvf lmd_full.tar.gz\n",
        "\n",
        "print('Done! Enjoy! :)')\n",
        "print('=' * 70)\n",
        "%cd /content/"
      ],
      "metadata": {
        "id": "hYz2P5Zmoobl",
        "cellView": "form"
      },
      "execution_count": null,
      "outputs": []
    },
    {
      "cell_type": "markdown",
      "metadata": {
        "id": "UX1_5y5Fu8AH"
      },
      "source": [
        "# (LAKH Pitches Signatures Pack)"
      ]
    },
    {
      "cell_type": "code",
      "source": [
        "#@title Load LAKH Pitches Signatures Pack\n",
        "LAKH = pickle.load(open('/content/RecoMIDI/LAKH_Signatures.pickle', 'rb'))"
      ],
      "metadata": {
        "id": "TjSMb9mWdqnS",
        "cellView": "form"
      },
      "execution_count": null,
      "outputs": []
    },
    {
      "cell_type": "markdown",
      "source": [
        "# (SOURCE MIDI)"
      ],
      "metadata": {
        "id": "59gXalBfhnWK"
      }
    },
    {
      "cell_type": "code",
      "source": [
        "#@title Load your source MIDI\n",
        "full_path_to_source_MIDI = \"/content/lmd_full/8/80007bba6849fc49efd743f9b8dd19e6.mid\" #@param {type:\"string\"}\n",
        "f = full_path_to_source_MIDI\n",
        "\n",
        "print('Loading MIDI file...')\n",
        "score = TMIDIX.midi2score(open(f, 'rb').read())\n",
        "\n",
        "events_matrix = []\n",
        "\n",
        "itrack = 1\n",
        "\n",
        "while itrack < len(score):\n",
        "    for event in score[itrack]:         \n",
        "        if event[0] == 'note':\n",
        "            events_matrix.append(event)\n",
        "    itrack += 1\n",
        "if len(events_matrix) > 0:\n",
        "    instruments_pitches = [y[4] for y in events_matrix if y[3] != 9]\n",
        "    instruments_pitches_count = len(instruments_pitches)\n",
        "    instruments_pitches_sum = sum(instruments_pitches)\n",
        "    \n",
        "    drums_pitches = [y[4] for y in events_matrix if y[3] == 9]\n",
        "    drums_pitches_count = len(drums_pitches)\n",
        "    drums_pitches_sum = sum(drums_pitches)\n",
        "    \n",
        "    inputs = [f, instruments_pitches_count, instruments_pitches_sum, drums_pitches_count, drums_pitches_sum]\n",
        "print('=' * 70)\n",
        "print(inputs)\n",
        "\n",
        "\n",
        "print('=' * 70)\n",
        "print('Plotting the composition. Please wait...')\n",
        "\n",
        "fname = f.split('.')[0]\n",
        "\n",
        "pm = pretty_midi.PrettyMIDI(fname + '.mid')\n",
        "\n",
        "# Retrieve piano roll of the MIDI file\n",
        "piano_roll = pm.get_piano_roll()\n",
        "\n",
        "plt.figure(figsize=(14, 5))\n",
        "librosa.display.specshow(piano_roll, x_axis='time', y_axis='cqt_note', fmin=1, hop_length=160, sr=16000, cmap=plt.cm.hot)\n",
        "plt.title(fname)\n",
        "\n",
        "FluidSynth(\"/usr/share/sounds/sf2/FluidR3_GM.sf2\", 16000).midi_to_audio(str(fname + '.mid'), str(fname + '.wav'))\n",
        "Audio(str(fname + '.wav'), rate=16000)"
      ],
      "metadata": {
        "id": "CyBhKKX5dPiH",
        "cellView": "form"
      },
      "execution_count": null,
      "outputs": []
    },
    {
      "cell_type": "markdown",
      "source": [
        "# (FIND MATCHES)"
      ],
      "metadata": {
        "id": "zoAuvYv7hsXy"
      }
    },
    {
      "cell_type": "code",
      "source": [
        "#@title Run to find matches in LAKH dataset\n",
        "\n",
        "#@markdown PROTip: Use matches Rating to determine closeness to the source MIDI\n",
        "\n",
        "similarity_rating = 0 #@param {type:\"slider\", min:0, max:0.00001, step:0.000001}\n",
        "#@markdown similarity_rating == 0 will include exact matches\n",
        "\n",
        "dissimilarity_rating = 0.0003 #@param {type:\"slider\", min:0.00001, max:0.001, step:0.00001}\n",
        "\n",
        "print('RecoMIDI MIDI Signatures Matching Algorithm')\n",
        "print('=' * 100)\n",
        "\n",
        "found = []\n",
        "fcount = 0\n",
        "\n",
        "print('Source MIDI Signature', inputs[1:])\n",
        "print('=' * 100)\n",
        "\n",
        "print('Found Matches:')\n",
        "print('=' * 100)\n",
        "\n",
        "for L in LAKH:\n",
        "  signature = abs(((inputs[2]+inputs[4]) / (inputs[1]+inputs[3])) - ((L[3]+L[5]) / (L[2]+L[4])))\n",
        "  if fcount > 15:\n",
        "    break\n",
        "    \n",
        "  if signature >= similarity_rating and signature <= dissimilarity_rating:\n",
        "    print(fcount, L[1:], 'Rating:', signature)\n",
        "    print('=' * 100)\n",
        "    found.append(L)\n",
        "    fcount += 1"
      ],
      "metadata": {
        "id": "UfF0okmaefbW",
        "cellView": "form"
      },
      "execution_count": null,
      "outputs": []
    },
    {
      "cell_type": "code",
      "source": [
        "#@title Plot and listen to the desired match\n",
        "which_match_to_plot = 0 #@param {type:\"slider\", min:0, max:15, step:1}\n",
        "\n",
        "print('=' * 70)\n",
        "print('Plotting the composition. Please wait...')\n",
        "\n",
        "fo = found[which_match_to_plot][0].split('notebooks/')[1]\n",
        "\n",
        "foo = '/content/' + fo\n",
        "fname = foo.split('.')[0]\n",
        "\n",
        "pm = pretty_midi.PrettyMIDI(fname + '.mid')\n",
        "\n",
        "# Retrieve piano roll of the MIDI file\n",
        "piano_roll = pm.get_piano_roll()\n",
        "\n",
        "plt.figure(figsize=(14, 5))\n",
        "librosa.display.specshow(piano_roll, x_axis='time', y_axis='cqt_note', fmin=1, hop_length=160, sr=16000, cmap=plt.cm.hot)\n",
        "plt.title(fname)\n",
        "\n",
        "FluidSynth(\"/usr/share/sounds/sf2/FluidR3_GM.sf2\", 16000).midi_to_audio(str(fname + '.mid'), str(fname + '.wav'))\n",
        "Audio(str(fname + '.wav'), rate=16000)"
      ],
      "metadata": {
        "id": "Xk6pKmWHje_k",
        "cellView": "form"
      },
      "execution_count": null,
      "outputs": []
    },
    {
      "cell_type": "markdown",
      "metadata": {
        "id": "YzCMd94Tu_gz"
      },
      "source": [
        "# Congrats! You did it! :)"
      ]
    }
  ],
  "metadata": {
    "colab": {
      "collapsed_sections": [],
      "machine_shape": "hm",
      "name": "RecoMIDI.ipynb",
      "private_outputs": true,
      "provenance": []
    },
    "kernelspec": {
      "display_name": "Python 3 (ipykernel)",
      "language": "python",
      "name": "python3"
    },
    "language_info": {
      "codemirror_mode": {
        "name": "ipython",
        "version": 3
      },
      "file_extension": ".py",
      "mimetype": "text/x-python",
      "name": "python",
      "nbconvert_exporter": "python",
      "pygments_lexer": "ipython3",
      "version": "3.8.12"
    }
  },
  "nbformat": 4,
  "nbformat_minor": 0
}